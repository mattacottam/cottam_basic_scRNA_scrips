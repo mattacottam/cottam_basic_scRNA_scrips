{
 "cells": [
  {
   "cell_type": "markdown",
   "metadata": {},
   "source": [
    "# SquidPy Analaysis of Spatial Visium data"
   ]
  },
  {
   "cell_type": "code",
   "execution_count": 1,
   "metadata": {},
   "outputs": [
    {
     "name": "stdout",
     "output_type": "stream",
     "text": [
      "squidpy==1.4.1\n"
     ]
    }
   ],
   "source": [
    "import numpy as np\n",
    "import pandas as pd\n",
    "import anndata as ad\n",
    "import scanpy as sc\n",
    "import squidpy as sq\n",
    "\n",
    "print(f\"squidpy=={sq.__version__}\")"
   ]
  },
  {
   "cell_type": "markdown",
   "metadata": {},
   "source": [
    "## Load Spatial Data"
   ]
  },
  {
   "cell_type": "code",
   "execution_count": 3,
   "metadata": {},
   "outputs": [
    {
     "name": "stderr",
     "output_type": "stream",
     "text": [
      "/home/cottamma/mambaforge/envs/squidpy/lib/python3.9/site-packages/anndata/_core/anndata.py:1908: UserWarning: Variable names are not unique. To make them unique, call `.var_names_make_unique`.\n",
      "  utils.warn_names_duplicates(\"var\")\n",
      "/home/cottamma/mambaforge/envs/squidpy/lib/python3.9/site-packages/anndata/_core/anndata.py:1908: UserWarning: Variable names are not unique. To make them unique, call `.var_names_make_unique`.\n",
      "  utils.warn_names_duplicates(\"var\")\n",
      "/home/cottamma/mambaforge/envs/squidpy/lib/python3.9/site-packages/anndata/_core/anndata.py:1908: UserWarning: Variable names are not unique. To make them unique, call `.var_names_make_unique`.\n",
      "  utils.warn_names_duplicates(\"var\")\n",
      "/home/cottamma/mambaforge/envs/squidpy/lib/python3.9/site-packages/anndata/_core/anndata.py:1908: UserWarning: Variable names are not unique. To make them unique, call `.var_names_make_unique`.\n",
      "  utils.warn_names_duplicates(\"var\")\n",
      "/home/cottamma/mambaforge/envs/squidpy/lib/python3.9/site-packages/anndata/_core/anndata.py:1908: UserWarning: Variable names are not unique. To make them unique, call `.var_names_make_unique`.\n",
      "  utils.warn_names_duplicates(\"var\")\n",
      "/home/cottamma/mambaforge/envs/squidpy/lib/python3.9/site-packages/anndata/_core/anndata.py:1908: UserWarning: Variable names are not unique. To make them unique, call `.var_names_make_unique`.\n",
      "  utils.warn_names_duplicates(\"var\")\n"
     ]
    }
   ],
   "source": [
    "pm1 = sq.read.visium('results/001-spaceRanger/A1')\n",
    "pm2 = sq.read.visium('results/001-spaceRanger/D1')"
   ]
  },
  {
   "cell_type": "markdown",
   "metadata": {},
   "source": [
    "Process data through standard workflow"
   ]
  },
  {
   "cell_type": "code",
   "execution_count": 5,
   "metadata": {},
   "outputs": [],
   "source": [
    "# store raw counts\n",
    "pm1.layers['raw'] = pm1.X.copy()\n",
    "pm2.layers['raw'] = pm2.X.copy()"
   ]
  },
  {
   "cell_type": "code",
   "execution_count": 6,
   "metadata": {},
   "outputs": [
    {
     "name": "stderr",
     "output_type": "stream",
     "text": [
      "/home/cottamma/mambaforge/envs/squidpy/lib/python3.9/site-packages/scanpy/preprocessing/_normalization.py:196: UserWarning: Some cells have zero counts\n",
      "  warn(UserWarning('Some cells have zero counts'))\n"
     ]
    }
   ],
   "source": [
    "sc.pp.normalize_total(pm1)\n",
    "sc.pp.normalize_total(pm2)\n",
    "\n",
    "sc.pp.log1p(pm1)\n",
    "sc.pp.log1p(pm2)\n",
    "\n",
    "# store log1p normalized counts\n",
    "pm1.layers['log1p'] = pm1.X.copy()\n",
    "pm2.layers['log1p'] = pm2.X.copy()"
   ]
  },
  {
   "cell_type": "code",
   "execution_count": 4,
   "metadata": {},
   "outputs": [
    {
     "name": "stdout",
     "output_type": "stream",
     "text": [
      "WARNING: genes are not in var_names and ignored: ['GAU1', 'LINC00261', 'PRSS2']\n",
      "WARNING: genes are not in var_names and ignored: ['GAU1', 'LINC00261', 'PRSS2']\n",
      "WARNING: genes are not in var_names and ignored: ['GAU1', 'LINC00261', 'PRSS2']\n"
     ]
    }
   ],
   "source": [
    "pm1.var_names_make_unique()\n",
    "pm2.var_names_make_unique()\n",
    "\n",
    "plasticity_set = ['CEACAM6','CKB','CLIC3','CTSE','KLK10','LCN2','MSLN','PDZK1IP1','SFTA2','SLPI','TSPAN1','TACSTD2']\n",
    "stem_set = ['CLDN2','CD44','AXIN2','RNF43','TGFBI','EPHB2','TEAD2','CDX2','LGR5','OLFM4','ASCL2']\n",
    "\n",
    "sc.tl.score_genes(pm1, plasticity_set, score_name = 'MP2_Plasticity')\n",
    "sc.tl.score_genes(pm1, stem_set, score_name = 'Stemcell')\n",
    "\n",
    "sc.tl.score_genes(pm2, plasticity_set, score_name = 'MP2_Plasticity')\n",
    "sc.tl.score_genes(pm2, stem_set, score_name = 'Stemcell')\n",
    "\n"
   ]
  },
  {
   "cell_type": "markdown",
   "metadata": {},
   "source": [
    "# Save h5ad-formatted files for peritoneal spatial transcriptomics"
   ]
  },
  {
   "cell_type": "code",
   "execution_count": 9,
   "metadata": {},
   "outputs": [],
   "source": [
    "pm1.write('results/002-squidPy/A1.h5ad')\n",
    "pm2.write('results/002-squidPyDA1.h5ad')"
   ]
  }
 ],
 "metadata": {
  "kernelspec": {
   "display_name": "squidpy",
   "language": "python",
   "name": "python3"
  },
  "language_info": {
   "codemirror_mode": {
    "name": "ipython",
    "version": 3
   },
   "file_extension": ".py",
   "mimetype": "text/x-python",
   "name": "python",
   "nbconvert_exporter": "python",
   "pygments_lexer": "ipython3",
   "version": "3.9.18"
  }
 },
 "nbformat": 4,
 "nbformat_minor": 2
}
